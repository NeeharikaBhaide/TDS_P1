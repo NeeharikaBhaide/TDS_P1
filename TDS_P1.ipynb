{
  "nbformat": 4,
  "nbformat_minor": 0,
  "metadata": {
    "colab": {
      "provenance": [],
      "authorship_tag": "ABX9TyPlUigfve6qgzpef9LCJLF2",
      "include_colab_link": true
    },
    "kernelspec": {
      "name": "python3",
      "display_name": "Python 3"
    },
    "language_info": {
      "name": "python"
    }
  },
  "cells": [
    {
      "cell_type": "markdown",
      "metadata": {
        "id": "view-in-github",
        "colab_type": "text"
      },
      "source": [
        "<a href=\"https://colab.research.google.com/github/NeeharikaBhaide/TDS_P1/blob/main/TDS_P1.ipynb\" target=\"_parent\"><img src=\"https://colab.research.google.com/assets/colab-badge.svg\" alt=\"Open In Colab\"/></a>"
      ]
    },
    {
      "cell_type": "code",
      "source": [
        "import requests\n",
        "import pandas as pd\n",
        "from time import sleep\n",
        "\n",
        "# Constants\n",
        "GITHUB_TOKEN =\n",
        "HEADERS = {\"Authorization\": f\"token {GITHUB_TOKEN}\"}\n",
        "CITY = \"Austin\"\n",
        "MIN_FOLLOWERS = 100\n",
        "\n",
        "# Function to get users based on location and followers count\n",
        "def get_users():\n",
        "    users = []\n",
        "    page = 1\n",
        "    while True:\n",
        "        url = f\"https://api.github.com/search/users?q=location:{CITY}+followers:>{MIN_FOLLOWERS}&page={page}&per_page=100\"\n",
        "        response = requests.get(url, headers=HEADERS)\n",
        "        data = response.json()\n",
        "\n",
        "        if \"items\" not in data:\n",
        "            break\n",
        "\n",
        "        for item in data[\"items\"]:\n",
        "            user_url = item[\"url\"]\n",
        "            user_data = requests.get(user_url, headers=HEADERS).json()\n",
        "            users.append({\n",
        "                \"login\": user_data.get(\"login\"),\n",
        "                \"name\": user_data.get(\"name\"),\n",
        "                \"company\": clean_company(user_data.get(\"company\")),\n",
        "                \"location\": user_data.get(\"location\"),\n",
        "                \"email\": user_data.get(\"email\", \"\"),\n",
        "                \"hireable\": user_data.get(\"hireable\", \"\"),\n",
        "                \"bio\": user_data.get(\"bio\", \"\"),\n",
        "                \"public_repos\": user_data.get(\"public_repos\"),\n",
        "                \"followers\": user_data.get(\"followers\"),\n",
        "                \"following\": user_data.get(\"following\"),\n",
        "                \"created_at\": user_data.get(\"created_at\"),\n",
        "            })\n",
        "\n",
        "        page += 1\n",
        "        if len(data[\"items\"]) < 100:\n",
        "            break\n",
        "        sleep(1)  # Rate limit compliance\n",
        "\n",
        "    return pd.DataFrame(users)\n",
        "\n",
        "# Helper function to clean company names\n",
        "def clean_company(company):\n",
        "    if company:\n",
        "        company = company.strip().lstrip('@').upper()\n",
        "    return company if company else \"\"\n",
        "\n",
        "# Function to get repositories for each user\n",
        "def get_repositories(login):\n",
        "    repos = []\n",
        "    page = 1\n",
        "    while True:\n",
        "        url = f\"https://api.github.com/users/{login}/repos?page={page}&per_page=100\"\n",
        "        response = requests.get(url, headers=HEADERS)\n",
        "        repo_data = response.json()\n",
        "\n",
        "        if not repo_data:\n",
        "            break\n",
        "\n",
        "        for repo in repo_data:\n",
        "            repos.append({\n",
        "                \"login\": login,\n",
        "                \"full_name\": repo.get(\"full_name\"),\n",
        "                \"created_at\": repo.get(\"created_at\"),\n",
        "                \"stargazers_count\": repo.get(\"stargazers_count\"),\n",
        "                \"watchers_count\": repo.get(\"watchers_count\"),\n",
        "                \"language\": repo.get(\"language\", \"\"),\n",
        "                \"has_projects\": repo.get(\"has_projects\", False),\n",
        "                \"has_wiki\": repo.get(\"has_wiki\", False),\n",
        "                \"license_name\": repo[\"license\"][\"key\"] if repo.get(\"license\") else \"\",\n",
        "            })\n",
        "\n",
        "        page += 1\n",
        "        if len(repo_data) < 100:\n",
        "            break\n",
        "        sleep(1)  # Rate limit compliance\n",
        "\n",
        "    return pd.DataFrame(repos)\n",
        "\n",
        "# Main function to generate CSVs\n",
        "def main():\n",
        "    # Fetch and save users\n",
        "    users_df = get_users()\n",
        "    users_df.to_csv(\"users.csv\", index=False)\n",
        "\n",
        "    # Fetch and save repositories\n",
        "    all_repos = pd.DataFrame()\n",
        "    for login in users_df[\"login\"]:\n",
        "        user_repos = get_repositories(login)\n",
        "        all_repos = pd.concat([all_repos, user_repos], ignore_index=True)\n",
        "        sleep(1)  # Rate limit compliance between users\n",
        "\n",
        "    all_repos.to_csv(\"repositories.csv\", index=False)\n",
        "\n",
        "if __name__ == \"__main__\":\n",
        "    main()\n"
      ],
      "metadata": {
        "id": "3NWPLgdf2_ZW"
      },
      "execution_count": null,
      "outputs": []
    },
    {
      "cell_type": "code",
      "source": [
        "# Q-1\n",
        "\n",
        "# Load the users data\n",
        "users_df = pd.read_csv(\"users.csv\")\n",
        "\n",
        "# Sort users by followers in descending order and select the top 5\n",
        "top_5_users = users_df.sort_values(by=\"followers\", ascending=False).head(5)\n",
        "\n",
        "# Extract the 'login' column and join them into a comma-separated string\n",
        "top_5_logins = \", \".join(top_5_users[\"login\"])\n",
        "\n",
        "print(\"Top 5 users with the highest followers:\", top_5_logins)\n"
      ],
      "metadata": {
        "colab": {
          "base_uri": "https://localhost:8080/"
        },
        "id": "8NzO3Eo1GOEC",
        "outputId": "482f9816-c79f-47fc-f476-70a9be38187a"
      },
      "execution_count": null,
      "outputs": [
        {
          "output_type": "stream",
          "name": "stdout",
          "text": [
            "Top 5 users with the highest followers: getify, benawad, steveklabnik, cloudflare, jbogard\n"
          ]
        }
      ]
    },
    {
      "cell_type": "code",
      "source": [
        "# Q-2\n",
        "\n",
        "# Load the users data\n",
        "users_df = pd.read_csv(\"users.csv\")\n",
        "\n",
        "# Convert created_at to datetime format to ensure proper sorting\n",
        "users_df[\"created_at\"] = pd.to_datetime(users_df[\"created_at\"])\n",
        "\n",
        "# Sort users by created_at in ascending order and select the top 5\n",
        "earliest_users = users_df.sort_values(by=\"created_at\", ascending=True).head(5)\n",
        "\n",
        "# Extract the 'login' column and join them into a comma-separated string\n",
        "earliest_logins = \",\".join(earliest_users[\"login\"])\n",
        "\n",
        "print(\"5 earliest registered GitHub users in Austin:\", earliest_logins)\n"
      ],
      "metadata": {
        "colab": {
          "base_uri": "https://localhost:8080/"
        },
        "id": "dWsf6M8aOvKP",
        "outputId": "c6982657-a947-431c-cf90-229f293f0a6d"
      },
      "execution_count": null,
      "outputs": [
        {
          "output_type": "stream",
          "name": "stdout",
          "text": [
            "5 earliest registered GitHub users in Austin: jnewland,joshknowles,hassox,dan,damon\n"
          ]
        }
      ]
    },
    {
      "cell_type": "code",
      "source": [
        "# Q-3\n",
        "\n",
        "# Load the repositories data\n",
        "repos_df = pd.read_csv(\"repositories.csv\")\n",
        "\n",
        "# Filter out rows with missing license names\n",
        "filtered_repos = repos_df[repos_df[\"license_name\"].notna() & (repos_df[\"license_name\"] != \"\")]\n",
        "\n",
        "# Count the occurrences of each license and get the top 3 most common licenses\n",
        "top_licenses = filtered_repos[\"license_name\"].value_counts().head(3)\n",
        "\n",
        "# Extract the license names and join them into a comma-separated string\n",
        "top_licenses_names = \",\".join(top_licenses.index)\n",
        "\n",
        "print(\"3 most popular licenses:\", top_licenses_names)\n"
      ],
      "metadata": {
        "colab": {
          "base_uri": "https://localhost:8080/"
        },
        "id": "3Ud8_W1aPK3a",
        "outputId": "8c17149a-1d34-4378-af85-ec1b220ac40d"
      },
      "execution_count": null,
      "outputs": [
        {
          "output_type": "stream",
          "name": "stdout",
          "text": [
            "3 most popular licenses: mit,apache-2.0,other\n"
          ]
        }
      ]
    },
    {
      "cell_type": "code",
      "source": [
        "# Q-4\n",
        "\n",
        "# Load users data\n",
        "users_df = pd.read_csv(\"cleaned_users.csv\")  # Assuming this is the cleaned file you created\n",
        "\n",
        "# Filter non-empty company names and convert to uppercase\n",
        "users_df['company'] = users_df['company'].str.strip().str.upper()\n",
        "companies = users_df[users_df['company'] != '']['company']\n",
        "\n",
        "# Find the most common company\n",
        "most_common_company = companies.mode().iloc[0]  # The mode gives the most common value\n",
        "\n",
        "print(\"Company with the most developers:\", most_common_company)\n"
      ],
      "metadata": {
        "colab": {
          "base_uri": "https://localhost:8080/"
        },
        "id": "YurMirNTNZwt",
        "outputId": "a0dab5d9-be85-4e5e-de5e-38db3b79802a"
      },
      "execution_count": null,
      "outputs": [
        {
          "output_type": "stream",
          "name": "stdout",
          "text": [
            "Company with the most developers: GOOGLE\n"
          ]
        }
      ]
    },
    {
      "cell_type": "code",
      "source": [
        "# Q-5\n",
        "\n",
        "# Load the repositories data\n",
        "repos_df = pd.read_csv(\"repositories.csv\")\n",
        "\n",
        "# Filter out rows with missing language values\n",
        "filtered_repos = repos_df[repos_df[\"language\"].notna() & (repos_df[\"language\"] != \"\")]\n",
        "\n",
        "# Count the occurrences of each language and get the most common one\n",
        "most_popular_language = filtered_repos[\"language\"].value_counts().idxmax()\n",
        "\n",
        "print(\"Most popular programming language:\", most_popular_language)\n"
      ],
      "metadata": {
        "colab": {
          "base_uri": "https://localhost:8080/"
        },
        "id": "q5Ls_kpcPof8",
        "outputId": "5106deff-7a17-40d5-96e5-322730fb86a4"
      },
      "execution_count": null,
      "outputs": [
        {
          "output_type": "stream",
          "name": "stdout",
          "text": [
            "Most popular programming language: JavaScript\n"
          ]
        }
      ]
    },
    {
      "cell_type": "code",
      "source": [
        "# Q-6\n",
        "\n",
        "# Load the users and repositories data\n",
        "users_df = pd.read_csv(\"users.csv\")\n",
        "repos_df = pd.read_csv(\"repositories.csv\")\n",
        "\n",
        "# Convert created_at to datetime format\n",
        "users_df[\"created_at\"] = pd.to_datetime(users_df[\"created_at\"])\n",
        "\n",
        "# Filter users who joined after 2020\n",
        "recent_users = users_df[users_df[\"created_at\"] > \"2020-01-01\"]\n",
        "\n",
        "# Filter repositories for these users\n",
        "recent_repos = repos_df[repos_df[\"login\"].isin(recent_users[\"login\"])]\n",
        "\n",
        "# Filter out rows with missing language values\n",
        "filtered_repos = recent_repos[recent_repos[\"language\"].notna() & (recent_repos[\"language\"] != \"\")]\n",
        "\n",
        "# Count the occurrences of each language\n",
        "language_counts = filtered_repos[\"language\"].value_counts()\n",
        "\n",
        "# Get the second most popular language\n",
        "second_most_popular_language = language_counts.index[1] if len(language_counts) > 1 else None\n",
        "\n",
        "print(\"Second most popular programming language among users who joined after 2020:\", second_most_popular_language)\n"
      ],
      "metadata": {
        "colab": {
          "base_uri": "https://localhost:8080/"
        },
        "id": "Dp1iQUblP95L",
        "outputId": "cf2b7d07-2d6c-4fe4-aeab-e75c8891c8c7"
      },
      "execution_count": null,
      "outputs": [
        {
          "output_type": "stream",
          "name": "stdout",
          "text": [
            "Second most popular programming language among users who joined after 2020: HTML\n"
          ]
        }
      ]
    },
    {
      "cell_type": "code",
      "source": [
        "# Q-7\n",
        "\n",
        "# Load the repositories data\n",
        "repos_df = pd.read_csv(\"repositories.csv\")\n",
        "\n",
        "# Filter out rows with missing language or stars\n",
        "filtered_repos = repos_df[repos_df[\"language\"].notna() & (repos_df[\"language\"] != \"\")]\n",
        "\n",
        "# Group by language and calculate the average number of stars\n",
        "avg_stars_per_language = filtered_repos.groupby(\"language\")[\"stargazers_count\"].mean()\n",
        "\n",
        "# Get the language with the highest average number of stars\n",
        "highest_avg_stars_language = avg_stars_per_language.idxmax()\n",
        "highest_avg_stars_value = avg_stars_per_language.max()\n",
        "\n",
        "print(f\"Language with the highest average number of stars per repository: {highest_avg_stars_language} ({highest_avg_stars_value:.2f} stars)\")\n"
      ],
      "metadata": {
        "colab": {
          "base_uri": "https://localhost:8080/"
        },
        "id": "f5I-0It8QpFD",
        "outputId": "66e38756-490d-4d50-c00f-01aee638b725"
      },
      "execution_count": null,
      "outputs": [
        {
          "output_type": "stream",
          "name": "stdout",
          "text": [
            "Language with the highest average number of stars per repository: Fennel (2443.00 stars)\n"
          ]
        }
      ]
    },
    {
      "cell_type": "code",
      "source": [
        "# Q-8\n",
        "\n",
        "# Load the users data\n",
        "users_df = pd.read_csv(\"users.csv\")\n",
        "\n",
        "# Calculate leader_strength\n",
        "users_df['leader_strength'] = users_df['followers'] / (1 + users_df['following'])\n",
        "\n",
        "# Sort users by leader_strength in descending order and select the top 5\n",
        "top_5_leaders = users_df.sort_values(by='leader_strength', ascending=False).head(5)\n",
        "\n",
        "# Extract the 'login' column and join them into a comma-separated string\n",
        "top_5_logins = \",\".join(top_5_leaders['login'])\n",
        "\n",
        "print(\"Top 5 users in terms of leader_strength:\", top_5_logins)\n"
      ],
      "metadata": {
        "colab": {
          "base_uri": "https://localhost:8080/"
        },
        "id": "HOWllMs2RBqo",
        "outputId": "da78981e-26c1-4e57-ba15-4b657bd384f3"
      },
      "execution_count": null,
      "outputs": [
        {
          "output_type": "stream",
          "name": "stdout",
          "text": [
            "Top 5 users in terms of leader_strength: getify,cloudflare,benawad,oracle,ContinuumIO\n"
          ]
        }
      ]
    },
    {
      "cell_type": "code",
      "source": [
        "# Q-9\n",
        "\n",
        "# Load the users data\n",
        "users_df = pd.read_csv(\"users.csv\")\n",
        "\n",
        "# Calculate the correlation between followers and public_repos\n",
        "correlation = users_df['followers'].corr(users_df['public_repos'])\n",
        "\n",
        "# Print the correlation rounded to 3 decimal places\n",
        "print(\"Correlation between followers and public repositories:\", round(correlation, 3))\n"
      ],
      "metadata": {
        "colab": {
          "base_uri": "https://localhost:8080/"
        },
        "id": "VJiaQ2CZRa9t",
        "outputId": "7eb94e56-c7f3-4251-d3ad-b18d05d07ed4"
      },
      "execution_count": null,
      "outputs": [
        {
          "output_type": "stream",
          "name": "stdout",
          "text": [
            "Correlation between followers and public repositories: 0.15\n"
          ]
        }
      ]
    },
    {
      "cell_type": "code",
      "source": [
        "# Q-10\n",
        "import statsmodels.api as sm\n",
        "\n",
        "# Load the users data\n",
        "users_df = pd.read_csv(\"users.csv\")\n",
        "\n",
        "# Define the independent variable (public_repos) and dependent variable (followers)\n",
        "X = users_df['public_repos']\n",
        "y = users_df['followers']\n",
        "\n",
        "# Add a constant to the independent variable for the intercept\n",
        "X = sm.add_constant(X)\n",
        "\n",
        "# Fit the regression model\n",
        "model = sm.OLS(y, X).fit()\n",
        "\n",
        "# Get the slope (coefficient) for public_repos\n",
        "slope = model.params['public_repos']\n",
        "\n",
        "# Print the slope rounded to 3 decimal places\n",
        "print(\"Regression slope of followers on public repositories:\", round(slope, 3))\n"
      ],
      "metadata": {
        "colab": {
          "base_uri": "https://localhost:8080/"
        },
        "id": "7KJI3bnySJay",
        "outputId": "eb4e9ce8-1944-4293-d58e-3baf7cd669a6"
      },
      "execution_count": null,
      "outputs": [
        {
          "output_type": "stream",
          "name": "stdout",
          "text": [
            "Regression slope of followers on public repositories: 4.088\n"
          ]
        }
      ]
    },
    {
      "cell_type": "code",
      "source": [
        "# Q-11\n",
        "\n",
        "import pandas as pd\n",
        "\n",
        "# Load users and repositories data\n",
        "users_df = pd.read_csv(\"users.csv\")\n",
        "repositories_df = pd.read_csv(\"repositories.csv\")\n",
        "\n",
        "# Function to convert boolean and null values\n",
        "def clean_dataframe(df):\n",
        "    # Replace boolean values\n",
        "    df.replace({True: 'true', False: 'false'}, inplace=True)\n",
        "\n",
        "    # Replace NaN values with empty strings\n",
        "    df.fillna('', inplace=True)\n",
        "\n",
        "    return df\n",
        "\n",
        "# Clean both DataFrames\n",
        "cleaned_users_df = clean_dataframe(users_df)\n",
        "cleaned_repositories_df = clean_dataframe(repositories_df)\n",
        "\n",
        "# Save the cleaned DataFrames to new CSV files\n",
        "cleaned_users_df.to_csv(\"cleaned_users.csv\", index=False)\n",
        "cleaned_repositories_df.to_csv(\"cleaned_repositories.csv\", index=False)\n",
        "\n",
        "print(\"Boolean values converted and nulls replaced in new files.\")\n"
      ],
      "metadata": {
        "colab": {
          "base_uri": "https://localhost:8080/"
        },
        "id": "lQAf4oAjGzHG",
        "outputId": "b75fe4c0-db8f-4ec5-e6d9-62e083961122"
      },
      "execution_count": null,
      "outputs": [
        {
          "output_type": "stream",
          "name": "stdout",
          "text": [
            "Boolean values converted and nulls replaced in new files.\n"
          ]
        }
      ]
    },
    {
      "cell_type": "code",
      "source": [
        "import pandas as pd\n",
        "\n",
        "# Load users and repositories data\n",
        "users_df = pd.read_csv(\"users.csv\")\n",
        "repositories_df = pd.read_csv(\"repositories.csv\")\n",
        "\n",
        "# Function to convert boolean and null values\n",
        "def clean_dataframe(df):\n",
        "    # Replace boolean values\n",
        "    df.replace({True: 'true', False: 'false'}, inplace=True)\n",
        "\n",
        "    # Replace NaN values with empty strings\n",
        "    df.fillna('', inplace=True)\n",
        "\n",
        "    return df\n",
        "\n",
        "# Clean both DataFrames\n",
        "cleaned_users_df = clean_dataframe(users_df)\n",
        "cleaned_repositories_df = clean_dataframe(repositories_df)\n",
        "\n",
        "# Save the cleaned DataFrames back to CSV\n",
        "cleaned_users_df.to_csv(\"users.csv\", index=False)\n",
        "cleaned_repositories_df.to_csv(\"repositories.csv\", index=False)\n",
        "\n",
        "print(\"Boolean values converted and nulls replaced in both files.\")\n"
      ],
      "metadata": {
        "colab": {
          "base_uri": "https://localhost:8080/"
        },
        "id": "VoVoPnkNFqMc",
        "outputId": "74bd0aba-b67b-415c-ad42-efefc21a03a2"
      },
      "execution_count": null,
      "outputs": [
        {
          "output_type": "stream",
          "name": "stdout",
          "text": [
            "Boolean values converted and nulls replaced in both files.\n"
          ]
        }
      ]
    },
    {
      "cell_type": "code",
      "source": [
        "users_df = pd.read_csv(\"users.csv\")\n",
        "repositories_df = pd.read_csv(\"repositories.csv\")\n",
        "\n",
        "print(users_df)"
      ],
      "metadata": {
        "colab": {
          "base_uri": "https://localhost:8080/"
        },
        "id": "JYhAzMiIGLLQ",
        "outputId": "01ab4ef7-fa22-455e-b7ca-aa2784ea1879"
      },
      "execution_count": null,
      "outputs": [
        {
          "output_type": "stream",
          "name": "stdout",
          "text": [
            "            login                    name                       company  \\\n",
            "0          getify            Kyle Simpson              GETIFY SOLUTIONS   \n",
            "1         benawad                Ben Awad                       VOIDPET   \n",
            "2    steveklabnik           Steve Klabnik                 OXIDECOMPUTER   \n",
            "3      cloudflare              Cloudflare                           NaN   \n",
            "4         jbogard            Jimmy Bogard  JIMMY BOGARD CONSULTING, LLC   \n",
            "..            ...                     ...                           ...   \n",
            "465     dbredvick           Drew Bredvick                        VERCEL   \n",
            "466  mutualmobile           Mutual Mobile                           NaN   \n",
            "467        mpakus  Ibragimov \"MpaK\" Renat                        AÖMEGA   \n",
            "468        AMD-IT     AMD IT Organization                           NaN   \n",
            "469  matt-landers            Matt Landers                        GOOGLE   \n",
            "\n",
            "                                             location  \\\n",
            "0                                          Austin, TX   \n",
            "1                                          Austin, TX   \n",
            "2                                          Austin, TX   \n",
            "3    San Francisco, London, Austin, Lisbon, Singapore   \n",
            "4                                          Austin, TX   \n",
            "..                                                ...   \n",
            "465                                        Austin, TX   \n",
            "466                                        Austin, TX   \n",
            "467                                     Austin, Texas   \n",
            "468                                            Austin   \n",
            "469                                        Austin, TX   \n",
            "\n",
            "                                 email hireable  \\\n",
            "0                     getify@gmail.com     True   \n",
            "1                                  NaN      NaN   \n",
            "2               steve@steveklabnik.com      NaN   \n",
            "3                                  NaN      NaN   \n",
            "4               jimmy.bogard@gmail.com      NaN   \n",
            "..                                 ...      ...   \n",
            "465                dbredvick@gmail.com      NaN   \n",
            "466                                NaN      NaN   \n",
            "467                    renat@aomega.co     True   \n",
            "468  dl.DevSecOps-Github-Admin@amd.com      NaN   \n",
            "469                                NaN      NaN   \n",
            "\n",
            "                                                   bio  public_repos  \\\n",
            "0    Kyle Simpson is a Human-Centric Technologist. ...            69   \n",
            "1            React.js, Typescript, Node.js, PostgreSQL           254   \n",
            "2    All i'm trying to do is enjoy every day to the...           831   \n",
            "3                                                  NaN           475   \n",
            "4           The Barley Architect, Architect Consultant           139   \n",
            "..                                                 ...           ...   \n",
            "465  Building SaaS for GTM teams while growing sale...            69   \n",
            "466  We build breakthrough products in partnership ...            86   \n",
            "467  If you wake up at a different time in a differ...           119   \n",
            "468               Repositories of AMD IT Organization              0   \n",
            "469                                                NaN            27   \n",
            "\n",
            "     followers  following            created_at  \n",
            "0        43930          2  2009-11-08T06:56:21Z  \n",
            "1        29017          4  2014-06-12T15:55:20Z  \n",
            "2         6802        206  2008-10-06T17:40:28Z  \n",
            "3         6429          0  2010-06-25T01:24:59Z  \n",
            "4         5945          3  2009-07-13T18:05:22Z  \n",
            "..         ...        ...                   ...  \n",
            "465        101          3  2015-01-16T21:46:31Z  \n",
            "466        101          0  2009-12-11T23:41:54Z  \n",
            "467        101         93  2010-06-23T07:21:53Z  \n",
            "468        101          0  2020-01-14T15:36:11Z  \n",
            "469        101         10  2013-11-03T16:44:10Z  \n",
            "\n",
            "[470 rows x 11 columns]\n"
          ]
        }
      ]
    },
    {
      "cell_type": "code",
      "source": [
        "#Q-11\n",
        "\n",
        "# import pandas as pd\n",
        "\n",
        "# # Load the repositories data\n",
        "# repos_df = pd.read_csv(\"repositories.csv\")\n",
        "\n",
        "# # Calculate the correlation between has_projects and has_wiki\n",
        "# # Convert boolean columns to integers (True = 1, False = 0) for correlation calculation\n",
        "\n",
        "# repos_df['has_projects'] = repos_df['has_projects'].replace({'TRUE': True, 'FALSE': False}).astype(int)\n",
        "# repos_df['has_wiki'] = repos_df['has_wiki'].replace({'TRUE': True, 'FALSE': False}).astype(int)\n",
        "\n",
        "# # repos_df['has_projects'] = repos_df['has_projects'].astype(int)\n",
        "# # repos_df['has_wiki'] = repos_df['has_wiki'].astype(int)\n",
        "\n",
        "# correlation = repos_df['has_projects'].corr(repos_df['has_wiki'])\n",
        "\n",
        "# # Print the correlation rounded to 3 decimal places\n",
        "# print(\"Correlation between projects and wikis enabled:\", round(correlation, 3))\n",
        "\n",
        "\n",
        "import pandas as pd\n",
        "\n",
        "# Load the repositories data\n",
        "repos_df = pd.read_csv(\"repositories.csv\")\n",
        "\n",
        "# Ensure all values in 'has_projects' and 'has_wiki' are strings, then standardize\n",
        "# repos_df['has_projects'] = repos_df['has_projects'].astype(str).str.lower().replace({'true': True, 'false': False}).astype(int)\n",
        "# repos_df['has_wiki'] = repos_df['has_wiki'].astype(str).str.lower().replace({'true': True, 'false': False}).astype(int)\n",
        "\n",
        "repos_df['has_projects'] = repos_df['has_projects'].astype(bool)\n",
        "repos_df['has_wiki'] = repos_df['has_wiki'].astype(bool)\n",
        "\n",
        "\n",
        "# Calculate the correlation between has_projects and has_wiki\n",
        "correlation = repos_df['has_projects'].corr(repos_df['has_wiki'])\n",
        "\n",
        "# Print the correlation rounded to 3 decimal places\n",
        "print(\"Correlation between projects and wikis enabled:\", round(correlation, 3))\n",
        "\n",
        "\n"
      ],
      "metadata": {
        "colab": {
          "base_uri": "https://localhost:8080/"
        },
        "id": "4B2wvzwfSgyN",
        "outputId": "ebbd7d4c-36ae-46d2-dab3-636521a05ff9"
      },
      "execution_count": null,
      "outputs": [
        {
          "output_type": "stream",
          "name": "stdout",
          "text": [
            "Correlation between projects and wikis enabled: 0.273\n"
          ]
        }
      ]
    },
    {
      "cell_type": "code",
      "source": [
        "# Q-12\n",
        "\n",
        "users_df = pd.read_csv(\"users.csv\")\n",
        "\n",
        "# Step 1: Replace NaN and empty strings with 0 in the 'following' column\n",
        "users_df['hireable'] = users_df['hireable'].fillna(0)  # Replace NaN with 0\n",
        "users_df['hireable'] = users_df['hireable'].replace('', 0)  # Replace empty strings with 0\n",
        "\n",
        "# Step 2: Convert to boolean: If following > 0, it will be True; otherwise, False\n",
        "users_df['hireable'] = users_df['hireable'].astype(bool)\n"
      ],
      "metadata": {
        "id": "0ipQ4NneTq6r"
      },
      "execution_count": null,
      "outputs": []
    },
    {
      "cell_type": "code",
      "source": [
        "users_df = pd.read_csv(\"users.csv\")\n",
        "\n",
        "# Step 1: Convert string representations to proper boolean\n",
        "users_df['hireable'] = users_df['hireable'].replace({'TRUE': True, 'FALSE': False,\n",
        "                                                      })\n",
        "\n",
        "print(users_df)"
      ],
      "metadata": {
        "colab": {
          "base_uri": "https://localhost:8080/"
        },
        "id": "T9ZD2NAAUjlc",
        "outputId": "736e0104-d0d6-4a5c-e55b-12da4c8f0364"
      },
      "execution_count": null,
      "outputs": [
        {
          "output_type": "stream",
          "name": "stdout",
          "text": [
            "            login                    name                       company  \\\n",
            "0          getify            Kyle Simpson              GETIFY SOLUTIONS   \n",
            "1         benawad                Ben Awad                       VOIDPET   \n",
            "2    steveklabnik           Steve Klabnik                 OXIDECOMPUTER   \n",
            "3      cloudflare              Cloudflare                           NaN   \n",
            "4         jbogard            Jimmy Bogard  JIMMY BOGARD CONSULTING, LLC   \n",
            "..            ...                     ...                           ...   \n",
            "465     dbredvick           Drew Bredvick                        VERCEL   \n",
            "466  mutualmobile           Mutual Mobile                           NaN   \n",
            "467        mpakus  Ibragimov \"MpaK\" Renat                        AÖMEGA   \n",
            "468        AMD-IT     AMD IT Organization                           NaN   \n",
            "469  matt-landers            Matt Landers                        GOOGLE   \n",
            "\n",
            "                                             location  \\\n",
            "0                                          Austin, TX   \n",
            "1                                          Austin, TX   \n",
            "2                                          Austin, TX   \n",
            "3    San Francisco, London, Austin, Lisbon, Singapore   \n",
            "4                                          Austin, TX   \n",
            "..                                                ...   \n",
            "465                                        Austin, TX   \n",
            "466                                        Austin, TX   \n",
            "467                                     Austin, Texas   \n",
            "468                                            Austin   \n",
            "469                                        Austin, TX   \n",
            "\n",
            "                                 email hireable  \\\n",
            "0                     getify@gmail.com     True   \n",
            "1                                  NaN      NaN   \n",
            "2               steve@steveklabnik.com      NaN   \n",
            "3                                  NaN      NaN   \n",
            "4               jimmy.bogard@gmail.com      NaN   \n",
            "..                                 ...      ...   \n",
            "465                dbredvick@gmail.com      NaN   \n",
            "466                                NaN      NaN   \n",
            "467                    renat@aomega.co     True   \n",
            "468  dl.DevSecOps-Github-Admin@amd.com      NaN   \n",
            "469                                NaN      NaN   \n",
            "\n",
            "                                                   bio  public_repos  \\\n",
            "0    Kyle Simpson is a Human-Centric Technologist. ...            69   \n",
            "1            React.js, Typescript, Node.js, PostgreSQL           254   \n",
            "2    All i'm trying to do is enjoy every day to the...           831   \n",
            "3                                                  NaN           475   \n",
            "4           The Barley Architect, Architect Consultant           139   \n",
            "..                                                 ...           ...   \n",
            "465  Building SaaS for GTM teams while growing sale...            69   \n",
            "466  We build breakthrough products in partnership ...            86   \n",
            "467  If you wake up at a different time in a differ...           119   \n",
            "468               Repositories of AMD IT Organization              0   \n",
            "469                                                NaN            27   \n",
            "\n",
            "     followers  following            created_at  \n",
            "0        43930          2  2009-11-08T06:56:21Z  \n",
            "1        29017          4  2014-06-12T15:55:20Z  \n",
            "2         6802        206  2008-10-06T17:40:28Z  \n",
            "3         6429          0  2010-06-25T01:24:59Z  \n",
            "4         5945          3  2009-07-13T18:05:22Z  \n",
            "..         ...        ...                   ...  \n",
            "465        101          3  2015-01-16T21:46:31Z  \n",
            "466        101          0  2009-12-11T23:41:54Z  \n",
            "467        101         93  2010-06-23T07:21:53Z  \n",
            "468        101          0  2020-01-14T15:36:11Z  \n",
            "469        101         10  2013-11-03T16:44:10Z  \n",
            "\n",
            "[470 rows x 11 columns]\n"
          ]
        }
      ]
    },
    {
      "cell_type": "code",
      "source": [
        "#Q-12\n",
        "\n",
        "# import pandas as pd\n",
        "\n",
        "# # Load the users data\n",
        "# users_df = pd.read_csv(\"users.csv\")\n",
        "\n",
        "# # Calculate the average following for hireable users\n",
        "# hireable_avg_following = users_df[users_df['hireable'] == True]['following'].mean()\n",
        "\n",
        "# # Calculate the average following for non-hireable users\n",
        "# non_hireable_avg_following = users_df[users_df['hireable'] == False]['following'].mean()\n",
        "\n",
        "# # Calculate the difference\n",
        "# average_difference = hireable_avg_following - non_hireable_avg_following\n",
        "\n",
        "# # Print the average difference rounded to 3 decimal places\n",
        "# print(\"Average following per hireable user minus average following for non-hireable users:\", round(average_difference, 3))\n",
        "\n",
        "\n",
        "import pandas as pd\n",
        "\n",
        "# Load the users data\n",
        "users_df = pd.read_csv(\"users.csv\")\n",
        "\n",
        "# Convert 'hireable' column to a boolean (if it contains strings 'TRUE'/'FALSE')\n",
        "# Replace NaN values with False in 'hireable' column and convert strings to boolean\n",
        "users_df['hireable'] = users_df['hireable'].replace({'TRUE': True, 'FALSE': False, '': False, ' ': False}).fillna(False)\n",
        "\n",
        "# users_df['hireable'] = users_df['hireable'].astype(str).str.lower().replace({'': False, 'TRUE': True, 'FALSE': False})\n",
        "# print(users_df['hireable'])\n",
        "\n",
        "# Calculate average 'following' for hireable and non-hireable users\n",
        "\n",
        "tot = users_df['hireable'].count()\n",
        "print(tot)\n",
        "\n",
        "hireable_avg_following = len(users_df[users_df['hireable'] == True]['following']) / tot\n",
        "non_hireable_avg_following = len(users_df[users_df['hireable'] == False]['following']) / tot\n",
        "\n",
        "# Calculate the difference and round to 3 decimal places\n",
        "average_difference = round(hireable_avg_following - non_hireable_avg_following, 3)\n",
        "\n",
        "# Print the result\n",
        "print(\"Average of following per hireable user minus average following for non-hireable users:\", average_difference)\n"
      ],
      "metadata": {
        "colab": {
          "base_uri": "https://localhost:8080/"
        },
        "id": "VTqH8-yjS9Kx",
        "outputId": "3ab7b8a1-c805-45ee-a3c3-a2dd7769c598"
      },
      "execution_count": null,
      "outputs": [
        {
          "output_type": "stream",
          "name": "stdout",
          "text": [
            "470\n",
            "Average of following per hireable user minus average following for non-hireable users: -0.574\n"
          ]
        },
        {
          "output_type": "stream",
          "name": "stderr",
          "text": [
            "<ipython-input-35-4d8f7306c5ef>:28: FutureWarning: Downcasting object dtype arrays on .fillna, .ffill, .bfill is deprecated and will change in a future version. Call result.infer_objects(copy=False) instead. To opt-in to the future behavior, set `pd.set_option('future.no_silent_downcasting', True)`\n",
            "  users_df['hireable'] = users_df['hireable'].replace({'TRUE': True, 'FALSE': False, '': False, ' ': False}).fillna(False)\n"
          ]
        }
      ]
    },
    {
      "cell_type": "code",
      "source": [
        "# Q- 13\n",
        "\n",
        "import pandas as pd\n",
        "from sklearn.linear_model import LinearRegression\n",
        "\n",
        "# Load the users data\n",
        "users_df = pd.read_csv(\"users.csv\")\n",
        "\n",
        "# Step 1: Filter out users without bios\n",
        "users_with_bios = users_df[users_df['bio'].notna()]\n",
        "\n",
        "# Step 2: Calculate word count in each bio using .loc to avoid the SettingWithCopyWarning\n",
        "users_with_bios.loc[:, 'bio_word_count'] = users_with_bios['bio'].str.split().apply(len)\n",
        "\n",
        "# Step 3: Prepare data for regression analysis\n",
        "X = users_with_bios['bio_word_count'].values.reshape(-1, 1)\n",
        "y = users_with_bios['followers'].values\n",
        "\n",
        "# Step 4: Perform linear regression\n",
        "model = LinearRegression()\n",
        "model.fit(X, y)\n",
        "\n",
        "# Step 5: Get the slope of the regression line (coefficient)\n",
        "slope = model.coef_[0]\n",
        "\n",
        "# Print the slope rounded to 3 decimal places\n",
        "print(\"Regression slope of followers on bio word count:\", round(slope, 3))\n",
        "\n"
      ],
      "metadata": {
        "colab": {
          "base_uri": "https://localhost:8080/"
        },
        "id": "LxkJLVlw9jg-",
        "outputId": "e2f6969d-d4d1-49e4-9230-a332b9b1b023"
      },
      "execution_count": null,
      "outputs": [
        {
          "output_type": "stream",
          "name": "stdout",
          "text": [
            "Regression slope of followers on bio word count: 9.397\n"
          ]
        },
        {
          "output_type": "stream",
          "name": "stderr",
          "text": [
            "<ipython-input-3-0b401f94093f>:13: SettingWithCopyWarning: \n",
            "A value is trying to be set on a copy of a slice from a DataFrame.\n",
            "Try using .loc[row_indexer,col_indexer] = value instead\n",
            "\n",
            "See the caveats in the documentation: https://pandas.pydata.org/pandas-docs/stable/user_guide/indexing.html#returning-a-view-versus-a-copy\n",
            "  users_with_bios.loc[:, 'bio_word_count'] = users_with_bios['bio'].str.split().apply(len)\n"
          ]
        }
      ]
    },
    {
      "cell_type": "code",
      "source": [
        "import pandas as pd\n",
        "\n",
        "# Load the users data\n",
        "users_df = pd.read_csv(\"users.csv\")\n",
        "\n",
        "# Step 1: Filter out users without bios\n",
        "users_with_bios = users_df.dropna(subset=['bio'])\n",
        "\n",
        "# Step 2: Calculate the word count for each bio\n",
        "users_with_bios['bio_word_count'] = users_with_bios['bio'].str.split().apply(len)\n",
        "\n",
        "# Step 3: Calculate the correlation between bio word count and followers\n",
        "correlation = users_with_bios['bio_word_count'].corr(users_with_bios['followers'])\n",
        "\n",
        "# Print the correlation rounded to 3 decimal places\n",
        "print(\"Correlation between bio word count and followers:\", round(correlation, 3))\n",
        "\n"
      ],
      "metadata": {
        "colab": {
          "base_uri": "https://localhost:8080/"
        },
        "id": "KDalmqDyY9ra",
        "outputId": "51a473ae-98c1-4bac-e687-669eb2f04d4d"
      },
      "execution_count": null,
      "outputs": [
        {
          "output_type": "stream",
          "name": "stdout",
          "text": [
            "Correlation between bio word count and followers: 0.02\n"
          ]
        },
        {
          "output_type": "stream",
          "name": "stderr",
          "text": [
            "<ipython-input-38-cf6ff5611331>:10: SettingWithCopyWarning: \n",
            "A value is trying to be set on a copy of a slice from a DataFrame.\n",
            "Try using .loc[row_indexer,col_indexer] = value instead\n",
            "\n",
            "See the caveats in the documentation: https://pandas.pydata.org/pandas-docs/stable/user_guide/indexing.html#returning-a-view-versus-a-copy\n",
            "  users_with_bios['bio_word_count'] = users_with_bios['bio'].str.split().apply(len)\n"
          ]
        }
      ]
    },
    {
      "cell_type": "code",
      "source": [
        "import pandas as pd\n",
        "from scipy import stats\n",
        "\n",
        "# Load the users data\n",
        "users_df = pd.read_csv(\"users.csv\")\n",
        "\n",
        "# Step 1: Filter out users without bios\n",
        "users_with_bios = users_df.dropna(subset=['bio'])\n",
        "\n",
        "# Step 2: Calculate the word count for each bio\n",
        "users_with_bios['bio_word_count'] = users_with_bios['bio'].str.split().apply(len)\n",
        "\n",
        "# Step 3: Perform linear regression on followers vs bio word count\n",
        "slope, intercept, r_value, p_value, std_err = stats.linregress(users_with_bios['bio_word_count'], users_with_bios['followers'])\n",
        "\n",
        "# Print the slope rounded to 3 decimal places\n",
        "print(\"Regression slope of followers on bio word count:\", round(slope, 3))\n"
      ],
      "metadata": {
        "id": "nQiRQwjQc5XV",
        "outputId": "b9a9c71a-53dd-4af1-ef1c-548ef68a8fbd",
        "colab": {
          "base_uri": "https://localhost:8080/"
        }
      },
      "execution_count": null,
      "outputs": [
        {
          "output_type": "stream",
          "name": "stdout",
          "text": [
            "Regression slope of followers on bio word count: 9.397\n"
          ]
        },
        {
          "output_type": "stream",
          "name": "stderr",
          "text": [
            "<ipython-input-39-efc754269cc9>:11: SettingWithCopyWarning: \n",
            "A value is trying to be set on a copy of a slice from a DataFrame.\n",
            "Try using .loc[row_indexer,col_indexer] = value instead\n",
            "\n",
            "See the caveats in the documentation: https://pandas.pydata.org/pandas-docs/stable/user_guide/indexing.html#returning-a-view-versus-a-copy\n",
            "  users_with_bios['bio_word_count'] = users_with_bios['bio'].str.split().apply(len)\n"
          ]
        }
      ]
    },
    {
      "cell_type": "code",
      "source": [
        "# Q-14\n",
        "\n",
        "import pandas as pd\n",
        "\n",
        "# Load users and repositories data\n",
        "users_df = pd.read_csv(\"users.csv\")\n",
        "repos_df = pd.read_csv(\"repositories.csv\")\n",
        "\n",
        "# Convert 'created_at' to datetime\n",
        "repos_df['created_at'] = pd.to_datetime(repos_df['created_at'], utc=True)\n",
        "\n",
        "# Determine if the repository was created on a weekend (Saturday = 5, Sunday = 6)\n",
        "repos_df['is_weekend'] = repos_df['created_at'].dt.weekday >= 5\n",
        "\n",
        "# Filter for weekend repositories only\n",
        "weekend_repos = repos_df[repos_df['is_weekend']]\n",
        "\n",
        "# Count weekend repositories per user\n",
        "weekend_repos_count = weekend_repos['login'].value_counts().head(5)\n",
        "\n",
        "# Get the top 5 users' login in comma-separated format\n",
        "top_5_users = \",\".join(weekend_repos_count.index)\n",
        "\n",
        "# Output the result\n",
        "print(\"Top 5 users who created the most repositories on weekends:\", top_5_users)\n"
      ],
      "metadata": {
        "colab": {
          "base_uri": "https://localhost:8080/"
        },
        "id": "_vf7MUfu_BdM",
        "outputId": "60d2f8fa-2647-407c-97dc-1c7a786a7bc0"
      },
      "execution_count": null,
      "outputs": [
        {
          "output_type": "stream",
          "name": "stdout",
          "text": [
            "Top 5 users who created the most repositories on weekends: FellowTraveler,realityexpander,PaulBratslavsky,steveklabnik,OR13\n"
          ]
        }
      ]
    },
    {
      "cell_type": "code",
      "source": [
        "# Q-15\n",
        "\n",
        "import pandas as pd\n",
        "\n",
        "# Load the users data\n",
        "users_df = pd.read_csv(\"users.csv\")\n",
        "\n",
        "# Calculate the fraction of hireable users with email addresses\n",
        "hireable_users = users_df[users_df['hireable'] == True]\n",
        "fraction_hireable_with_email = hireable_users['email'].notna().mean()\n",
        "\n",
        "# Calculate the fraction of non-hireable users with email addresses\n",
        "non_hireable_users = users_df[users_df['hireable'] == False]\n",
        "fraction_non_hireable_with_email = non_hireable_users['email'].notna().mean()\n",
        "\n",
        "# Calculate the difference between the two fractions\n",
        "email_difference = round(fraction_hireable_with_email - fraction_non_hireable_with_email, 3)\n",
        "\n",
        "# Print the result\n",
        "print(\"Difference in fraction of users with email (hireable - non-hireable):\", email_difference)\n"
      ],
      "metadata": {
        "id": "UWLKBhxc_w_Z",
        "colab": {
          "base_uri": "https://localhost:8080/"
        },
        "outputId": "5e3efb0d-23fb-4846-b7df-8af71da9358d"
      },
      "execution_count": null,
      "outputs": [
        {
          "output_type": "stream",
          "name": "stdout",
          "text": [
            "Difference in fraction of users with email (hireable - non-hireable): nan\n"
          ]
        }
      ]
    },
    {
      "cell_type": "code",
      "source": [
        "# Q-16\n",
        "\n",
        "# Load users data\n",
        "users_df = pd.read_csv(\"users.csv\")\n",
        "\n",
        "# Drop missing names, trim whitespace, and store it in a new DataFrame\n",
        "users_with_names = users_df[users_df['name'].notna()].copy()\n",
        "users_with_names.loc[:, 'name'] = users_with_names['name'].str.strip()\n",
        "\n",
        "# Extract surname as the last word in the name\n",
        "users_with_names.loc[:, 'surname'] = users_with_names['name'].str.split().str[-1]\n",
        "\n",
        "# Count occurrences of each surname\n",
        "surname_counts = users_with_names['surname'].value_counts()\n",
        "\n",
        "# Find the most common surname(s)\n",
        "max_count = surname_counts.max()\n",
        "\n",
        "most_common_surnames = surname_counts[surname_counts == max_count]\n",
        "\n",
        "print(most_common_surnames)\n"
      ],
      "metadata": {
        "colab": {
          "base_uri": "https://localhost:8080/"
        },
        "id": "om6xVs6M_zSO",
        "outputId": "9c6110f0-3d8a-4166-e31a-72035a332bcc"
      },
      "execution_count": null,
      "outputs": [
        {
          "output_type": "stream",
          "name": "stdout",
          "text": [
            "surname\n",
            "Moore    3\n",
            "Smith    3\n",
            "Name: count, dtype: int64\n"
          ]
        }
      ]
    }
  ]
}